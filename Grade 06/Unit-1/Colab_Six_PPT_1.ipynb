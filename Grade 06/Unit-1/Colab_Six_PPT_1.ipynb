{
  "nbformat": 4,
  "nbformat_minor": 0,
  "metadata": {
    "colab": {
      "name": "Untitled30.ipynb",
      "provenance": [],
      "include_colab_link": true
    },
    "kernelspec": {
      "name": "python3",
      "display_name": "Python 3"
    },
    "language_info": {
      "name": "python"
    }
  },
  "cells": [
    {
      "cell_type": "markdown",
      "metadata": {
        "id": "view-in-github",
        "colab_type": "text"
      },
      "source": [
        "<a href=\"https://colab.research.google.com/github/DeepsphereAI/AIWorkshop/blob/master/Grade%2006/Unit-1/Colab_Six_PPT_1.ipynb\" target=\"_parent\"><img src=\"https://colab.research.google.com/assets/colab-badge.svg\" alt=\"Open In Colab\"/></a>"
      ]
    },
    {
      "cell_type": "code",
      "execution_count": 1,
      "metadata": {
        "id": "QpHA7pabWYBu",
        "colab": {
          "base_uri": "https://localhost:8080/"
        },
        "outputId": "8f6520c6-d1d4-4afe-efcd-4a532709b728"
      },
      "outputs": [
        {
          "output_type": "stream",
          "name": "stdout",
          "text": [
            "10\n"
          ]
        }
      ],
      "source": [
        "# \"\"\"\n",
        "# Ex 1.\n",
        "# Create Variable test with initial value 10\n",
        "\n",
        "# Program description: The objective of this program is to assign a numeric value to a variable “vAR_test” with initial value 10.\n",
        "# The equal sign (=) is used to assign value to variables in python.\n",
        "# Note: We can assign two different types of value to a variable a numeric value as well a string value (text value).\n",
        "\n",
        "# \"\"\"\n",
        "\n",
        "vAR_test = 10\n",
        "print(vAR_test)"
      ]
    }
  ]
}