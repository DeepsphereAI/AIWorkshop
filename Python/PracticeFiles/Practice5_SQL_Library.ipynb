{
  "nbformat": 4,
  "nbformat_minor": 0,
  "metadata": {
    "colab": {
      "provenance": [],
      "include_colab_link": true
    },
    "kernelspec": {
      "name": "python3",
      "display_name": "Python 3"
    },
    "language_info": {
      "name": "python"
    }
  },
  "cells": [
    {
      "cell_type": "markdown",
      "metadata": {
        "id": "view-in-github",
        "colab_type": "text"
      },
      "source": [
        "<a href=\"https://colab.research.google.com/github/DeepsphereAI/AIWorkshop/blob/master/Python/PracticeFiles/Practice5_SQL_Library.ipynb\" target=\"_parent\"><img src=\"https://colab.research.google.com/assets/colab-badge.svg\" alt=\"Open In Colab\"/></a>"
      ]
    },
    {
      "cell_type": "markdown",
      "source": [
        "## **SQL Library Practice Questions:**"
      ],
      "metadata": {
        "id": "jfCH556KZmp2"
      }
    },
    {
      "cell_type": "markdown",
      "source": [
        "**Question 1:** You are working on a project for a retail store to develop a simple database system for tracking customer information. Your first task is to set up a new SQLite database named 'Customer.db'. If the database does not exist, it should be created automatically. How do you write a Python script to connect to or create the 'Customer.db' database using sqlite3?"
      ],
      "metadata": {
        "id": "HZ8HfBVyESHp"
      }
    },
    {
      "cell_type": "markdown",
      "source": [
        "**Question 2:** While trying to connect to an SQLite database 'Customer.db', there might be potential issues such as file permission errors or incorrect file paths. How do you modify your Python script to handle exceptions during the database connection process?"
      ],
      "metadata": {
        "id": "eu8j27qoKGPc"
      }
    },
    {
      "cell_type": "markdown",
      "source": [
        "**Question 3:** You are writing a function called connect_to_db that takes a database file path as an argument and returns a connection object. The function should ensure that the connection is established or an error message is displayed. How do you implement the connect_to_db function in Python using sqlite3?\n"
      ],
      "metadata": {
        "id": "icI5XPgNKSC5"
      }
    },
    {
      "cell_type": "markdown",
      "source": [
        "**Question 4:** Now, you have created a database 'Customer.db'. In this database, you need to create a table named 'Customer_data' which will store each customer's unique ID, their name, email id, and their city. The 'id' should be an integer and act as the primary key, 'name' should be stored as text,  'email_id' should be stored as a text, and 'city' should be stored in text. Using Python and the sqlite3 library, how would you write a script to create the table 'Customer_data' with the specified columns and data types?"
      ],
      "metadata": {
        "id": "byf1E5uqMzfv"
      }
    },
    {
      "cell_type": "markdown",
      "source": [
        "**Question 5:** Now, you have a list of customer records like [(1, 'Alice', 'alice@gmail.com', 'New York'), (2, 'Bob', 'bob@gmail.com', 'New York'), (3, 'Rob', 'rob@gmail.com', 'San Francisco'), (4, 'Emma', 'emma@gmail.com', 'San Francisco'), (5, 'David', 'david@gmail.com', 'Denver') ]. Write a Python script using sqlite3 to insert these records into the 'Customer_data' table. How do you insert this data and handle exceptions?"
      ],
      "metadata": {
        "id": "QEUqTccHNQeO"
      }
    },
    {
      "cell_type": "markdown",
      "source": [
        "**Question 6:** You want to retrieve the names of all customers who live in 'New York'. Write a Python query using sqlite3 to fetch this data."
      ],
      "metadata": {
        "id": "QM_kh58HWwrk"
      }
    },
    {
      "cell_type": "markdown",
      "source": [
        "**Question 7:**  A customer's city needs to be updated. Bob's city should be changed from 'New York' to 'Austin'. How do you update Bob's city in the database using Python and sqlite3?"
      ],
      "metadata": {
        "id": "P0D2yQryYLqx"
      }
    },
    {
      "cell_type": "markdown",
      "source": [
        "**Question 8:** A customer named Alice needs to be removed from the database. Write the Python code using sqlite3 to delete Alice's record."
      ],
      "metadata": {
        "id": "b12UCPvPa9hw"
      }
    },
    {
      "cell_type": "markdown",
      "source": [
        "**Question 9:** You're tasked with implementing a customer loyalty program for an online store. Describe the process of creating a new table named 'Purchase' and establishing a reference from the existing 'Customer_table' to it? To the table 'Purchase' insert the values [\n",
        "    (1, 'Phone', 1),\n",
        "    (2, 'Laptop', 2),\n",
        "    (3, 'Tablet', 3),\n",
        "    (4, 'Smartwatch', 1),\n",
        "    (5, 'Headphones', 2)\n",
        "]. The fields are Purchase id, Product name, and customer id."
      ],
      "metadata": {
        "id": "7319m7rlhaXu"
      }
    },
    {
      "cell_type": "markdown",
      "source": [
        "**Question 10:** You are tasked with fetching all customers' names along with theier purchased product. How would you perform this in Python using sqlite3?\n"
      ],
      "metadata": {
        "id": "q11wFCadnmOx"
      }
    },
    {
      "cell_type": "markdown",
      "source": [
        "**Question 11:** you want to assess the popularity of a specific product 'Phone'. How would you use aggregation function in SQLite3 to determine the total number of purchases of 'Phone'?"
      ],
      "metadata": {
        "id": "e2Wta5FkrKDN"
      }
    },
    {
      "cell_type": "markdown",
      "source": [
        "**Question 12:** You're interested in identifying the customer who made the maximum number of purchases. How would you find the customer with the highest number of purchases?"
      ],
      "metadata": {
        "id": "N9k6b0BqsGmL"
      }
    },
    {
      "cell_type": "markdown",
      "source": [
        "**Question 13:** You are performing multiple insert operations and need to ensure they either all succeed or fail together. How do you manage transactions in Python with sqlite3 to ensure data integrity?"
      ],
      "metadata": {
        "id": "FxjGJkput3R7"
      }
    },
    {
      "cell_type": "markdown",
      "source": [
        "**Question 14:** You need to ensure that the database connection is properly opened and closed using context managers in Python. How would you implement this using sqlite3?"
      ],
      "metadata": {
        "id": "-mrqgR1WvBj4"
      }
    },
    {
      "cell_type": "markdown",
      "source": [
        "**Question 15:** The same retail store opening another branch. So, new database and table need to be created for that store. Now, you have customer details in csv file. Use the csv file to create the table in sqlite3. How do you use Pandas and sqlite3 to accomplish this?\n",
        "\n",
        "Note: Create your own customer csv file where it should contain fields such as id, name, email id, and city of the custormers."
      ],
      "metadata": {
        "id": "E536rSI3vUhL"
      }
    },
    {
      "cell_type": "markdown",
      "source": [
        "**Question 16:** Now, you have created the database and table for the 2nd store. Using appropriate method check if the table exists in the newly created database."
      ],
      "metadata": {
        "id": "nDA0A6uL3PEh"
      }
    },
    {
      "cell_type": "markdown",
      "source": [
        "**Question 17:** Querying the purchase table in database 1 need to be improved. What is one way to enhance the performance of SQLite3 queries in Python by improving data retrieval speed through a technique applied to columns in tables?"
      ],
      "metadata": {
        "id": "65Q-MpFh3j74"
      }
    },
    {
      "cell_type": "markdown",
      "source": [
        "**Question 18:** You want to compute the customer lifetime value (CLV) for each customer in your SQLite3 database. How would you write SQL queries to analyze historical purchase data and calculate CLV metrics?"
      ],
      "metadata": {
        "id": "0rGSGvRC6Hfv"
      }
    },
    {
      "cell_type": "markdown",
      "source": [
        "**Question 19:** You want to segment customers based on their purchasing behavior for targeted marketing campaigns. How would you use SQL queries to cluster customers into different segments (e.g., loyal customers, occasional buyers, new customers) based on their purchase history?"
      ],
      "metadata": {
        "id": "9By6W2JL7E2i"
      }
    },
    {
      "cell_type": "markdown",
      "source": [
        "**Question 20:** The store wanted to keep track of all the prices. So, they are interested in creating a table called 'Products' which has columns product_id, product_name, and price. Create a table using these columns in sqlite3."
      ],
      "metadata": {
        "id": "HQry76ZWA6fo"
      }
    },
    {
      "cell_type": "markdown",
      "source": [
        "**Question 21:** The store is interested in creating a new purchase table with products and their price. Demostrate how you will drop the purchase table? The fields shouls be"
      ],
      "metadata": {
        "id": "Dwc8_pbCBUy6"
      }
    },
    {
      "cell_type": "markdown",
      "source": [
        "**Question 22:** You are developing an new purchase table for a retail store. Describe how you would use the Purchases table with foreign keys referencing the Products and Customers tables to track product purchases made by customers. This table should carry the fields same as original table."
      ],
      "metadata": {
        "id": "eBi58OujVZbZ"
      }
    },
    {
      "cell_type": "markdown",
      "source": [
        "**Question 23:** After creating a new table for Purchase populate the table with the values."
      ],
      "metadata": {
        "id": "ze8BbqVUV5Mv"
      }
    },
    {
      "cell_type": "markdown",
      "source": [
        "**Question 24:** The marketing team wants to analyze the purchase behavior of customers for each product category. Write a query to retrieve the product name, the total number of purchases, and the total amount spent on each product category, sorted by total amount spent."
      ],
      "metadata": {
        "id": "9D8HhI-oNjjM"
      }
    },
    {
      "cell_type": "markdown",
      "source": [
        "**Question 25:** The sales team wants to compare the prices of products purchased by customers. Write a query to retrieve the product name and its corresponding price, along with the maximum, minimum, and average prices across all purchases."
      ],
      "metadata": {
        "id": "7FS7QXtaNtOs"
      }
    },
    {
      "cell_type": "markdown",
      "source": [
        "**Question 26:** The customer service team wants to identify loyal customers who have made multiple purchases across different product categories. Write a query to retrieve the customer ID and name, along with the count of unique product categories they have purchased from."
      ],
      "metadata": {
        "id": "42NsIcPgOUt4"
      }
    },
    {
      "cell_type": "markdown",
      "source": [
        "**Question 27:** The marketing team wants to analyze the frequency of purchases made by customers across different product categories. Write a query to retrieve the customer ID, the total number of purchases made by each customer, and the total amount spent by each customer, sorted by the total number of purchases."
      ],
      "metadata": {
        "id": "GtsjVhdPOgAl"
      }
    },
    {
      "cell_type": "markdown",
      "source": [
        "**Question 28:** A retail company operates in multiple cities and wants to analyze customer spending patterns across different locations. Describe how you would use the SQL query to compare customer spending by city to generate insights into which cities have the highest total purchases and total spending."
      ],
      "metadata": {
        "id": "GuSrVPbGQcOb"
      }
    },
    {
      "cell_type": "markdown",
      "source": [
        "**Question 29:** The customer service team wants to identify loyal customers who have made multiple purchases across different product categories. Write a query to retrieve the customer name, email, and the count of unique product categories they have purchased from, sorted by the count of unique product categories."
      ],
      "metadata": {
        "id": "makSrXs3Q8RT"
      }
    },
    {
      "cell_type": "markdown",
      "source": [
        "**Question 30:** The company wants to analyse the data. As an analyst, combine all the tables and donwload the data in csv format."
      ],
      "metadata": {
        "id": "pUpbbDUORC75"
      }
    }
  ]
}