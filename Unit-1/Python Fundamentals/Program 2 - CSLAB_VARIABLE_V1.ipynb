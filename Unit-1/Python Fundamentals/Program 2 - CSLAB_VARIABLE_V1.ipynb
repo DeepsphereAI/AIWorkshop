{
  "cells": [
    {
      "cell_type": "markdown",
      "metadata": {
        "id": "view-in-github",
        "colab_type": "text"
      },
      "source": [
        "<a href=\"https://colab.research.google.com/github/DeepsphereAI/AIWorkshop/blob/master/Unit-1/Python%20Fundamentals/Program%202%20-%20CSLAB_VARIABLE_V1.ipynb\" target=\"_parent\"><img src=\"https://colab.research.google.com/assets/colab-badge.svg\" alt=\"Open In Colab\"/></a>"
      ]
    },
    {
      "cell_type": "markdown",
      "metadata": {
        "id": "0R-f1srI7oE1"
      },
      "source": []
    },
    {
      "cell_type": "code",
      "execution_count": 1,
      "metadata": {
        "id": "b6K_gczDf5Z1",
        "outputId": "9fab4f76-39cf-44b6-a242-8000b85dc1e6",
        "colab": {
          "base_uri": "https://localhost:8080/"
        }
      },
      "outputs": [
        {
          "output_type": "stream",
          "name": "stdout",
          "text": [
            "100\n",
            "1000.0\n",
            "John\n"
          ]
        }
      ],
      "source": [
        "\n",
        "# /************************************************************************************************************************\n",
        "  \n",
        "#   File Name :   CSLAB_VARIABLE_V1\n",
        "#   Purpose \t:   A Program for Integer, Floating Point Integer & String Assignment in Python\n",
        "#   Author\t  :   Deepsphere.ai\n",
        "#   Reviewer \t:   Jothi Periasamy\n",
        "#   Date      :  21/10/2022 \n",
        "#   Version\t  :   1.0\t\n",
        "\n",
        "# /************************************************************************************************************************\n",
        "\n",
        "## Program Description : A Program for Variables for Integer, Floating Point Integer & String Assignment in Python\n",
        "\n",
        "## Python Development Environment & Runtime - Python, Anaconda\n",
        "\n",
        "# An Integer Assignment\n",
        "vAR_CSLAB_Counter = 100 \n",
        "\n",
        "# Floating Point Integer Assignment\n",
        "vAR_CSLAB_Miles = 1000.0 \n",
        "\n",
        "# String Assignment\n",
        "vAR_CSLAB_Name = \"John\"\n",
        "\n",
        "print (vAR_CSLAB_Counter)\n",
        "print (vAR_CSLAB_Miles)\n",
        "print (vAR_CSLAB_Name)\n",
        "\n",
        "# /************************************************************************************************************************\n",
        "# Disclaimer.\n",
        "\n",
        "# We are providing this code block strictly for learning and researching, this is not a production ready code. We have no liability on this particular code under any circumstances; users should use this code on their own risk. \n",
        "\n",
        "# All software, hardware and othr products that are referenced in these materials belong to the respective vendor who developed or who owns this product.\n",
        "\n",
        "# /************************************************************************************************************************\n",
        "  "
      ]
    }
  ],
  "metadata": {
    "colab": {
      "provenance": [],
      "include_colab_link": true
    },
    "kernelspec": {
      "display_name": "Python 3.9.13 64-bit (microsoft store)",
      "language": "python",
      "name": "python3"
    },
    "language_info": {
      "name": "python",
      "version": "3.9.13"
    },
    "vscode": {
      "interpreter": {
        "hash": "f7161cb5baffb24dee6a1726ecc12fdf408657b8c9335ee291ca814aa42784e7"
      }
    }
  },
  "nbformat": 4,
  "nbformat_minor": 0
}