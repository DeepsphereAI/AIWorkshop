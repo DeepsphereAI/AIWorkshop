{
  "nbformat": 4,
  "nbformat_minor": 0,
  "metadata": {
    "colab": {
      "provenance": [],
      "include_colab_link": true
    },
    "kernelspec": {
      "name": "python3",
      "display_name": "Python 3"
    },
    "language_info": {
      "name": "python"
    }
  },
  "cells": [
    {
      "cell_type": "markdown",
      "metadata": {
        "id": "view-in-github",
        "colab_type": "text"
      },
      "source": [
        "<a href=\"https://colab.research.google.com/github/DeepsphereAI/AIWorkshop/blob/master/Mysql/Unit-2/Numpy.ipynb\" target=\"_parent\"><img src=\"https://colab.research.google.com/assets/colab-badge.svg\" alt=\"Open In Colab\"/></a>"
      ]
    },
    {
      "cell_type": "code",
      "execution_count": null,
      "metadata": {
        "colab": {
          "base_uri": "https://localhost:8080/"
        },
        "id": "1uAmRet4sEkd",
        "outputId": "d97664fe-42c8-4205-98f7-b85489bd8cd2"
      },
      "outputs": [
        {
          "output_type": "stream",
          "name": "stdout",
          "text": [
            "1.23.5   << Numby Version\n"
          ]
        }
      ],
      "source": [
        "## ~~~~~~~~~~~~~~~~~~~~~~~~~~~~~\n",
        "## NumPy is a Python library.\n",
        "## NumPy is used for working with arrays.\n",
        "## NumPy is short for \"Numerical Python\".\n",
        "###~~~~~~~~~~~~~~~~~~~~~~~~~~~~~\n",
        "#~~~~~~~~~~~~~~~~~~~~~~~~~\n",
        "# NumPy - Example 1 - Simple Example\n",
        "#~~~~~~~~~~~~~~~~~~~~~~~~~\n",
        "import numpy\n",
        "arr = numpy.array([1, 2, 3, 4, 5])\n",
        "#print(arr)\n",
        "\n",
        "#~~~~~~~~~~~~~~~~~~~~~~~~~\n",
        "# NumPy - Example 2 - Checking NumPy Version\n",
        "#~~~~~~~~~~~~~~~~~~~~~~~~~\n",
        "#print(\"<< Example 2 Checking NumPy Version >>\")\n",
        "import numpy as np\n",
        "arr = np.array([1, 2, 3, 4, 5])\n",
        "#print(arr)\n",
        "print(np.__version__ + \"   << Numby Version\")"
      ]
    },
    {
      "cell_type": "code",
      "source": [
        "# NumPy - Example 3 - Create a NumPy ndarray Object\n",
        "#~~~~~~~~~~~~~~~~~~~~~~~~~\n",
        "print(\"<< Example 3 Create a NumPy ndarray Object >>\")\n",
        "import numpy as np\n",
        "arr = np.array([1, 2, 3, 4, 5])\n",
        "print(arr)\n",
        "print(type(arr))"
      ],
      "metadata": {
        "colab": {
          "base_uri": "https://localhost:8080/"
        },
        "id": "9OjlmlBisNnJ",
        "outputId": "9ac07e7a-b04d-4922-925a-be22a21146e4"
      },
      "execution_count": null,
      "outputs": [
        {
          "output_type": "stream",
          "name": "stdout",
          "text": [
            "<< Example 3 Create a NumPy ndarray Object >>\n",
            "[1 2 3 4 5]\n",
            "<class 'numpy.ndarray'>\n"
          ]
        }
      ]
    },
    {
      "cell_type": "code",
      "source": [
        "# NumPy - Example 4 - Use a tuple to create a NumPy array:\n",
        "#~~~~~~~~~~~~~~~~~~~~~~~~~\n",
        "print(\"<< Example 4 Use a tuple to create a NumPy array: >>\")\n",
        "import numpy as np\n",
        "arr = np.array((1, 2, 3, 4, 5))\n",
        "print(arr)"
      ],
      "metadata": {
        "colab": {
          "base_uri": "https://localhost:8080/"
        },
        "id": "EkufmgELsQxt",
        "outputId": "e9b6afd2-4211-4d45-942e-1051aee81450"
      },
      "execution_count": null,
      "outputs": [
        {
          "output_type": "stream",
          "name": "stdout",
          "text": [
            "<< Example 4 Use a tuple to create a NumPy array: >>\n",
            "[1 2 3 4 5]\n"
          ]
        }
      ]
    },
    {
      "cell_type": "code",
      "source": [
        "#~~~~~~~~~~~~~~~~~~~~~~~~~\n",
        "# NumPy - Example 5 - NumPy Array Indexing: +Access Array Elements\n",
        "#~~~~~~~~~~~~~~~~~~~~~~~~~\n",
        "print(\"<< Example 5 NumPy Array Indexing: + Access Array Elements >>\")\n",
        "import numpy as np\n",
        "arr = np.array([1, 2, 3, 4])\n",
        "print(arr[0])\n",
        "print(arr[1])\n",
        "print(arr[2] + arr[3])"
      ],
      "metadata": {
        "colab": {
          "base_uri": "https://localhost:8080/"
        },
        "id": "wcGCIX-nsTXH",
        "outputId": "eabf3764-00ff-494a-d5e5-f2b06191123d"
      },
      "execution_count": null,
      "outputs": [
        {
          "output_type": "stream",
          "name": "stdout",
          "text": [
            "<< Example 5 NumPy Array Indexing: + Access Array Elements >>\n",
            "1\n",
            "2\n",
            "7\n"
          ]
        }
      ]
    },
    {
      "cell_type": "code",
      "source": [
        "#~~~~~~~~~~~~~~~~~~~~~~~~~\n",
        "# NumPy - Example 6 - NumPy Array Slicing\n",
        "# We pass slice instead of index like this: [start:end].\n",
        "# We can also define the step, like this: [start:end:step].\n",
        "#~~~~~~~~~~~~~~~~~~~~~~~~~\n",
        "print(\"<< Example 6 NumPy Array Slicing >>\")\n",
        "import numpy as np\n",
        "arr = np.array([1, 2, 3, 4, 5, 6, 7])\n",
        "print(arr[1:5])\n",
        "print(arr[4:])\n",
        "print(arr[:4])\n",
        "print(arr[-3:-1]) # Negative Slicing - Slice from the index 3 from the end to index 1 from the end:\n",
        "print(arr[1:5:2]) #STEP - Return every other element from index 1 to index 5:\n",
        "print(arr[::2]) # Return every other element from the entire array:"
      ],
      "metadata": {
        "colab": {
          "base_uri": "https://localhost:8080/"
        },
        "id": "A5okhHX0sVxw",
        "outputId": "7842ce03-e3f3-4bb8-94cc-1d7e9bb6675c"
      },
      "execution_count": null,
      "outputs": [
        {
          "output_type": "stream",
          "name": "stdout",
          "text": [
            "<< Example 6 NumPy Array Slicing >>\n",
            "[2 3 4 5]\n",
            "[5 6 7]\n",
            "[1 2 3 4]\n",
            "[5 6]\n",
            "[2 4]\n",
            "[1 3 5 7]\n"
          ]
        }
      ]
    },
    {
      "cell_type": "code",
      "source": [
        "#~~~~~~~~~~~~~~~~~~~~~~~~~\n",
        "# NumPy - Example 7 - Slicing 2-D Arrays\n",
        "#~~~~~~~~~~~~~~~~~~~~~~~~~\n",
        "print(\"<< Example 7 Slicing 2-D Arrays >>\")\n",
        "import numpy as np\n",
        "arr = np.array([[1, 2, 3, 4, 5], [6, 7, 8, 9, 10]])\n",
        "#print(arr[1, 1:4]) # From the second element, slice elements from index 1 to index 4 (not included):\n",
        "print(arr[0:2, 2])  # From both elements, return index 2:"
      ],
      "metadata": {
        "colab": {
          "base_uri": "https://localhost:8080/"
        },
        "id": "TZqcaehSsYCF",
        "outputId": "1b655141-8f8d-4c93-c53f-545787e80561"
      },
      "execution_count": null,
      "outputs": [
        {
          "output_type": "stream",
          "name": "stdout",
          "text": [
            "<< Example 7 Slicing 2-D Arrays >>\n",
            "[3 8]\n"
          ]
        }
      ]
    },
    {
      "cell_type": "code",
      "source": [
        "#~~~~~~~~~~~~~~~~~~~~~~~~~\n",
        "# NumPy - Example 8 - Data Types in NumPy\n",
        "#~~~~~~~~~~~~~~~~~~~~~~~~~\n",
        "## i - integer , ## b - boolean , ## u - unsigned integer , ## f - float , ## c - complex float\n",
        "## m - timedelta , ## M - datetime ,  ## O - object\n",
        "## S - string, ## U - unicode string, ## V - fixed chunk of memory for other type ( void )\n",
        "print(\"<< Example 8 Data Types in NumPy >>\")\n",
        "import numpy as np\n",
        "arr = np.array([1, 2, 3, 4])\n",
        "print(arr.dtype)\n",
        "arr = np.array(['apple', 'banana', 'cherry'])\n",
        "#print(arr.dtype)\n",
        "arr = np.array([1, 2, 3, 4], dtype='S') # Create an array with data type string:\n",
        "#print(arr) # What is the outcome and why it prints in such a way\n",
        "#print(arr.dtype)\n",
        "arr = np.array([1, 2, 3, 4], dtype='i4') # Create an array with data type 4 bytes integer:\n",
        "#print(arr)\n",
        "print(arr.dtype)"
      ],
      "metadata": {
        "colab": {
          "base_uri": "https://localhost:8080/"
        },
        "id": "eeXEbhbVsaTw",
        "outputId": "328ab9a1-e9b7-4feb-cc59-907ce5541d92"
      },
      "execution_count": null,
      "outputs": [
        {
          "output_type": "stream",
          "name": "stdout",
          "text": [
            "<< Example 8 Data Types in NumPy >>\n",
            "int64\n",
            "int32\n"
          ]
        }
      ]
    },
    {
      "cell_type": "code",
      "source": [
        "#~~~~~~~~~~~~~~~~~~~~~~~~~\n",
        "# NumPy - Example 9 - Data Types in NumPy\n",
        "#~~~~~~~~~~~~~~~~~~~~~~~~~\n",
        "\n",
        "print(\"<< Example 9 Change data type from float to integer by using 'i' as parameter value: >>\")\n",
        "import numpy as np\n",
        "arr = np.array([1.1, 2.1, 3.1])\n",
        "newarr = arr.astype('i') # Change data type from float to integer by using 'i' as parameter value:\n",
        "print(newarr)\n",
        "print(newarr.dtype)\n",
        "newarr = arr.astype(int) # Change data type from float to integer by using int as parameter value:\n",
        "print(newarr)\n",
        "print(newarr.dtype)"
      ],
      "metadata": {
        "colab": {
          "base_uri": "https://localhost:8080/"
        },
        "id": "tMS6wS9EsdQj",
        "outputId": "48671db2-6dea-45b1-da40-fd75f458fc53"
      },
      "execution_count": null,
      "outputs": [
        {
          "output_type": "stream",
          "name": "stdout",
          "text": [
            "<< Example 9 Change data type from float to integer by using 'i' as parameter value: >>\n",
            "[1 2 3]\n",
            "int32\n",
            "[1 2 3]\n",
            "int64\n"
          ]
        }
      ]
    },
    {
      "cell_type": "code",
      "source": [
        "#~~~~~~~~~~~~~~~~~~~~~~~~~\n",
        "# NumPy - Example 10 - Change data type from integer to boolean::\n",
        "#~~~~~~~~~~~~~~~~~~~~~~~~~\n",
        "\n",
        "print(\"<< Example 10 Change data type from integer to boolean: >>\")\n",
        "import numpy as np\n",
        "arr = np.array([1, 0, 13])\n",
        "newarr = arr.astype(bool) # Change data type from integer to boolean::\n",
        "print(newarr) # What is the expected outcome and why it is so\n",
        "print(newarr.dtype)"
      ],
      "metadata": {
        "colab": {
          "base_uri": "https://localhost:8080/"
        },
        "id": "UZWZvvlysfrY",
        "outputId": "ab9edc9a-6dfd-474e-e91a-bf613901291d"
      },
      "execution_count": null,
      "outputs": [
        {
          "output_type": "stream",
          "name": "stdout",
          "text": [
            "<< Example 10 Change data type from integer to boolean: >>\n",
            "[ True False  True]\n",
            "bool\n"
          ]
        }
      ]
    },
    {
      "cell_type": "code",
      "source": [
        "#~~~~~~~~~~~~~~~~~~~~~~~~~\n",
        "# NumPy - Example 11 - Copy and View\n",
        "#~~~~~~~~~~~~~~~~~~~~~~~~~\n",
        "print(\"<< Example 11 Change data type from integer to boolean: >>\")\n",
        "import numpy as np\n",
        "arr = np.array([1, 2, 3, 4, 5])\n",
        "x = arr.copy()\n",
        "x[0] = 42 # Changing the copy\n",
        "#print(arr)\n",
        "#print(x)\n",
        "\n",
        "x = arr.view() # Make a view, change the original array, and display both arrays:\n",
        "arr[0] = 42 # Changing the view\n",
        "print(arr)\n",
        "print(x)\n"
      ],
      "metadata": {
        "colab": {
          "base_uri": "https://localhost:8080/"
        },
        "id": "RlU7a2qWsh5_",
        "outputId": "28febefb-795a-4e80-aae2-687ffffa2dc9"
      },
      "execution_count": null,
      "outputs": [
        {
          "output_type": "stream",
          "name": "stdout",
          "text": [
            "<< Example 11 Change data type from integer to boolean: >>\n",
            "[42  2  3  4  5]\n",
            "[42  2  3  4  5]\n"
          ]
        }
      ]
    },
    {
      "cell_type": "code",
      "source": [
        "#~~~~~~~~~~~~~~~~~~~~~~~~~\n",
        "# NumPy - Example 12 - Check if Array \"Owns\" its Data\n",
        "#~~~~~~~~~~~~~~~~~~~~~~~~~\n",
        "print(\"<< Example 12 Change data type from integer to boolean: >>\")\n",
        "import numpy as np\n",
        "arr = np.array([1, 2, 3, 4, 5])\n",
        "x = arr.copy()\n",
        "y = arr.view()\n",
        "print(x.base) # since this is a copied and a seperate data by itself, there is nothig in the base for \"X\"\n",
        "print(x)\n",
        "print(y.base)\n",
        "print(y)"
      ],
      "metadata": {
        "colab": {
          "base_uri": "https://localhost:8080/"
        },
        "id": "YKsIFfG_skXe",
        "outputId": "e1699330-dfb8-4f9f-a296-4b08219eb731"
      },
      "execution_count": null,
      "outputs": [
        {
          "output_type": "stream",
          "name": "stdout",
          "text": [
            "<< Example 12 Change data type from integer to boolean: >>\n",
            "None\n",
            "[1 2 3 4 5]\n",
            "[1 2 3 4 5]\n",
            "[1 2 3 4 5]\n"
          ]
        }
      ]
    },
    {
      "cell_type": "code",
      "source": [
        "#~~~~~~~~~~~~~~~~~~~~~~~~~\n",
        "# NumPy - Example 13 - Shape of an Array: The shape of an array is the number of elements in each dimension.\n",
        "#~~~~~~~~~~~~~~~~~~~~~~~~~\n",
        "print(\"<< Example 13 Shape of an Array: The shape of an array is the number of elements in each dimension. >>\")\n",
        "import numpy as np\n",
        "arr = np.array([[1, 2, 3, 4], [5, 6, 7, 8]]) # Print the shape of a 2-D array:\n",
        "#print(arr.shape) # Print the shape of a 2-D array:\n",
        "arr = np.array([1, 2, 3, 4], ndmin=4)\n",
        "# Create an array with 5 dimensions using ndmin using a vector with values 1,2,3,4 and verify that last dimension has value 4:\n",
        "print(arr)\n",
        "print('shape of array :', arr.shape)"
      ],
      "metadata": {
        "colab": {
          "base_uri": "https://localhost:8080/"
        },
        "id": "-6PNKphFsmZz",
        "outputId": "4054d0bb-5f63-458c-9a13-1815c7d01d4d"
      },
      "execution_count": null,
      "outputs": [
        {
          "output_type": "stream",
          "name": "stdout",
          "text": [
            "<< Example 13 Shape of an Array: The shape of an array is the number of elements in each dimension. >>\n",
            "[[[[1 2 3 4]]]]\n",
            "shape of array : (1, 1, 1, 4)\n"
          ]
        }
      ]
    },
    {
      "cell_type": "code",
      "source": [
        "#~~~~~~~~~~~~~~~~~~~~~~~~~\n",
        "# NumPy - Example 14 - Reshape\n",
        "#~~~~~~~~~~~~~~~~~~~~~~~~~\n",
        "import numpy as np\n",
        "arr = np.array([1, 2, 3, 4, 5, 6, 7, 8, 9, 10, 11, 12]) # Reshape From 1-D to 2-D\n",
        "newarr = arr.reshape(3, 4) #?????\n",
        "print(newarr)\n",
        "\n",
        "arr = np.array([1, 2, 3, 4, 5, 6, 7, 8, 9, 10, 11, 12]) # Reshape From 1-D to 3-D\n",
        "newarr = arr.reshape(2, 3, 2) #?????\n",
        "#print(newarr)"
      ],
      "metadata": {
        "colab": {
          "base_uri": "https://localhost:8080/"
        },
        "id": "AHcNbiqhsoNJ",
        "outputId": "68e0cb61-29e0-403f-fc6e-04e2b4167cb1"
      },
      "execution_count": null,
      "outputs": [
        {
          "output_type": "stream",
          "name": "stdout",
          "text": [
            "[[ 1  2  3  4]\n",
            " [ 5  6  7  8]\n",
            " [ 9 10 11 12]]\n"
          ]
        }
      ]
    },
    {
      "cell_type": "code",
      "source": [
        "#~~~~~~~~~~~~~~~~~~~~~~~~~\n",
        "# NumPy - Example 15 - Reshape  Convert the array into a 1D array:\n",
        "#~~~~~~~~~~~~~~~~~~~~~~~~~\n",
        "import numpy as np\n",
        "arr = np.array([[1, 2, 3], [4, 5, 6]])\n",
        "newarr = arr.reshape(-1) # Convert the array into a 1D array:\n",
        "#print(newarr)\n",
        "\n",
        "arr = np.array([1, 2, 3, 4, 5, 6, 7, 8]) # Convert 1D array with 8 elements to 3D array with 2x2 elements:\n",
        "newarr = arr.reshape(1, 8, -1) # Convert 1D array with 8 elements to 3D array with 2x2 elements:\n",
        "print(newarr)"
      ],
      "metadata": {
        "colab": {
          "base_uri": "https://localhost:8080/"
        },
        "id": "AL6n3gZQsp_7",
        "outputId": "4d22f82c-4abc-40de-894b-ec4ed7360970"
      },
      "execution_count": null,
      "outputs": [
        {
          "output_type": "stream",
          "name": "stdout",
          "text": [
            "[[[1]\n",
            "  [2]\n",
            "  [3]\n",
            "  [4]\n",
            "  [5]\n",
            "  [6]\n",
            "  [7]\n",
            "  [8]]]\n"
          ]
        }
      ]
    },
    {
      "cell_type": "code",
      "source": [
        "#~~~~~~~~~~~~~~~~~~~~~~~~~\n",
        "# NumPy - Example 15 - Iterating Arrays\n",
        "#~~~~~~~~~~~~~~~~~~~~~~~~~\n",
        "import numpy as np\n",
        "\n",
        "arr = np.array([1, 2, 3]) #Iterate on the elements of the following 1-D array\n",
        "for x in arr:\n",
        "  print(x)\n",
        "\n",
        "arr = np.array([[1, 2, 3], [4, 5, 6], [7, 8, 9]]) #Iterating 2-D Arrays\n",
        "for x in arr:\n",
        "  print(x)"
      ],
      "metadata": {
        "colab": {
          "base_uri": "https://localhost:8080/"
        },
        "id": "LxIVFD5gsrby",
        "outputId": "615dec83-41df-4547-aa44-e36563adf9d5"
      },
      "execution_count": null,
      "outputs": [
        {
          "output_type": "stream",
          "name": "stdout",
          "text": [
            "1\n",
            "2\n",
            "3\n",
            "[1 2 3]\n",
            "[4 5 6]\n",
            "[7 8 9]\n"
          ]
        }
      ]
    },
    {
      "cell_type": "code",
      "source": [
        "#~~~~~~~~~~~~~~~~~~~~~~~~~\n",
        "# NumPy - Example 16 - Iterate on each scalar element of the 2-D array:\n",
        "#~~~~~~~~~~~~~~~~~~~~~~~~~\n",
        "import numpy as np\n",
        "arr = np.array([[1, 2, 3], [4, 5, 6]]) # Iterate on each scalar element of the 2-D array:\n",
        "for x in arr:\n",
        "  for y in x:\n",
        "    print(y)"
      ],
      "metadata": {
        "colab": {
          "base_uri": "https://localhost:8080/"
        },
        "id": "5HVNHWX-ss_C",
        "outputId": "80e2f938-21af-4515-aa11-28ba7d657968"
      },
      "execution_count": null,
      "outputs": [
        {
          "output_type": "stream",
          "name": "stdout",
          "text": [
            "1\n",
            "2\n",
            "3\n",
            "4\n",
            "5\n",
            "6\n"
          ]
        }
      ]
    },
    {
      "cell_type": "code",
      "source": [
        "#~~~~~~~~~~~~~~~~~~~~~~~~~\n",
        "# NumPy - Example 17 - Joining NumPy Arrays\n",
        "#~~~~~~~~~~~~~~~~~~~~~~~~~\n",
        "import numpy as np\n",
        "arr1 = np.array([1, 2, 3])\n",
        "arr2 = np.array([4, 5, 6])\n",
        "arr = np.concatenate((arr1, arr2)) #Joining NumPy Arrays\n",
        "#print(arr)\n",
        "\n",
        "arr1 = np.array([[1, 2], [3, 4]])\n",
        "arr2 = np.array([[5, 6], [7, 8]])\n",
        "arr = np.concatenate((arr1, arr2),axis=1) #Join two 2-D arrays along rows (axis=1)\n",
        "print(arr)\n",
        "arr = np.concatenate((arr1, arr2),axis=1) #Join two 2-D arrays along rows (axis=1)\n",
        "#print(arr)"
      ],
      "metadata": {
        "colab": {
          "base_uri": "https://localhost:8080/"
        },
        "id": "kwtHGzrXsu60",
        "outputId": "973792e0-9b5f-4ecf-8c79-6ae4d183c079"
      },
      "execution_count": null,
      "outputs": [
        {
          "output_type": "stream",
          "name": "stdout",
          "text": [
            "[[1 2 5 6]\n",
            " [3 4 7 8]]\n"
          ]
        }
      ]
    },
    {
      "cell_type": "code",
      "source": [
        "#~~~~~~~~~~~~~~~~~~~~~~~~~\n",
        "# NumPy - Example 18 - Splitting NumPy Arrays\n",
        "#~~~~~~~~~~~~~~~~~~~~~~~~~\n",
        "import numpy as np\n",
        "arr = np.array([1, 2, 3, 4, 5, 6])\n",
        "newarr = np.array_split(arr, 1) #Split the array in 3 parts:\n",
        "print(newarr)\n",
        "\n",
        "newarr = np.array_split(arr, 4) #Split the array in 4 parts:\n",
        "#print(newarr)"
      ],
      "metadata": {
        "colab": {
          "base_uri": "https://localhost:8080/"
        },
        "id": "pWVPHwZusw2-",
        "outputId": "cdf25cec-8a24-448f-de6b-fcadd44b99af"
      },
      "execution_count": null,
      "outputs": [
        {
          "output_type": "stream",
          "name": "stdout",
          "text": [
            "[array([1, 2, 3, 4, 5, 6])]\n"
          ]
        }
      ]
    },
    {
      "cell_type": "code",
      "source": [
        "#~~~~~~~~~~~~~~~~~~~~~~~~~\n",
        "# NumPy - Example 19 - NumPy Searching Arrays\n",
        "#~~~~~~~~~~~~~~~~~~~~~~~~~\n",
        "import numpy as np\n",
        "arr = np.array([1, 2, 3, 4, 5, 4, 4]) #Find the indexes where the value is 4:\n",
        "x = np.where(arr == 4) #Find the indexes where the value is 4:\n",
        "#print(x)\n",
        "\n",
        "arr = np.array([1, 2, 3, 4, 5, 6, 7, 8]) #Find the indexes where the values are even:\n",
        "x = np.where(arr%2 == 0) #Find the indexes where the values are even:\n",
        "#print(x)\n",
        "\n",
        "arr = np.array([1, 2, 3, 4, 5, 6, 7, 8]) #Find the indexes where the values are odd:\n",
        "x = np.where(arr%2 == 1) #Find the indexes where the values are odd:\n",
        "print(x)"
      ],
      "metadata": {
        "colab": {
          "base_uri": "https://localhost:8080/"
        },
        "id": "qrj18OgeszJu",
        "outputId": "6ff86db9-a3fe-4155-d2dc-1971af4fdaa9"
      },
      "execution_count": null,
      "outputs": [
        {
          "output_type": "stream",
          "name": "stdout",
          "text": [
            "(array([0, 2, 4, 6]),)\n"
          ]
        }
      ]
    },
    {
      "cell_type": "code",
      "source": [
        "#~~~~~~~~~~~~~~~~~~~~~~~~~\n",
        "# NumPy - Example 20 - Sorting Arrays\n",
        "#~~~~~~~~~~~~~~~~~~~~~~~~~\n",
        "import numpy as np\n",
        "arr = np.array([3, 2, 0, 1])\n",
        "#print(np.sort(arr)) # Sort the array:\n",
        "\n",
        "arr = np.array(['banana', 'cherry', 'apple']) #Sort the array alphabetically:\n",
        "#print(np.sort(arr))\n",
        "\n",
        "arr = np.array([True, False, True])\n",
        "#print(np.sort(arr)) #Sort a boolean array:\n",
        "\n",
        "arr = np.array([[3, 2, 4], [5, 0, 1]])\n",
        "print(np.sort(arr)) #Sort a 2-D array:\n",
        "\n"
      ],
      "metadata": {
        "colab": {
          "base_uri": "https://localhost:8080/"
        },
        "id": "IxAX69D9s1hm",
        "outputId": "be3d091a-59e3-42a7-8c82-c46540ecacf3"
      },
      "execution_count": null,
      "outputs": [
        {
          "output_type": "stream",
          "name": "stdout",
          "text": [
            "[[2 3 4]\n",
            " [0 1 5]]\n"
          ]
        }
      ]
    },
    {
      "cell_type": "code",
      "source": [
        "#~~~~~~~~~~~~~~~~~~~~~~~~~\n",
        "# NumPy - Example 21 - NumPy Filter Array\n",
        "#    Getting some elements out of an existing array and creating a new array out of them is called filtering.\n",
        "#~~~~~~~~~~~~~~~~~~~~~~~~~\n",
        "import numpy as np\n",
        "arr = np.array([41, 42, 43, 44])\n",
        "x = [True, False, True, False] #Create an array from the elements on index 0 and 2:\n",
        "    # If the value at an index is True that element is contained in the filtered array,\n",
        "    # if the value at that index is False that element is excluded from the filtered array.\n",
        "newarr = arr[x]\n",
        "#print(newarr)\n",
        "\n",
        "arr = np.array([41, 42, 43, 44])\n",
        "# Create an empty list\n",
        "filter_arr = []\n",
        "# go through each element in arr\n",
        "for element in arr:\n",
        "  # if the element is higher than 42, set the value to True, otherwise False:\n",
        "  if element > 42:\n",
        "    filter_arr.append(True)\n",
        "  else:\n",
        "    filter_arr.append(False)\n",
        "newarr = arr[filter_arr]\n",
        "print(filter_arr)\n",
        "print(newarr)"
      ],
      "metadata": {
        "colab": {
          "base_uri": "https://localhost:8080/"
        },
        "id": "bPyQ8gsvs5J9",
        "outputId": "24c2da46-efad-4167-d3d4-c832536a4b60"
      },
      "execution_count": null,
      "outputs": [
        {
          "output_type": "stream",
          "name": "stdout",
          "text": [
            "[False, False, True, True]\n",
            "[43 44]\n"
          ]
        }
      ]
    },
    {
      "cell_type": "code",
      "source": [
        "#~~~~~~~~~~~~~~~~~~~~~~~~~\n",
        "# NumPy - Example 22 - NumPy - Broadcasting\n",
        "#    The term broadcasting refers to the ability of NumPy to treat arrays of different shapes during arithmetic operations.\n",
        "#     Assignment : How the operations on arrays of non-similar shapes is still possible in NumPy\n",
        "#~~~~~~~~~~~~~~~~~~~~~~~~~\n",
        "\n",
        "import numpy as np\n",
        "a = np.array([1,2,3,4])\n",
        "b = np.array([10,20,30,40])\n",
        "c = a * b\n",
        "#print(c)\n",
        "\n",
        "a = np.array([[0.0,0.0,0.0],[10.0,10.0,10.0],[20.0,20.0,20.0],[30.0,30.0,30.0]])\n",
        "b = np.array([1.0,2.0,3.0])\n",
        "\n",
        "print('First array:')\n",
        "print(a)\n",
        "print ('\\n')\n",
        "\n",
        "print ('Second array:')\n",
        "print (b )\n",
        "print('\\n')\n",
        "\n",
        "print ('First Array + Second Array' )\n",
        "print (a + b)"
      ],
      "metadata": {
        "colab": {
          "base_uri": "https://localhost:8080/"
        },
        "id": "psXJsw1xs7Ym",
        "outputId": "1a15dc45-4a31-45ae-ec45-c069d1487ac0"
      },
      "execution_count": null,
      "outputs": [
        {
          "output_type": "stream",
          "name": "stdout",
          "text": [
            "First array:\n",
            "[[ 0.  0.  0.]\n",
            " [10. 10. 10.]\n",
            " [20. 20. 20.]\n",
            " [30. 30. 30.]]\n",
            "\n",
            "\n",
            "Second array:\n",
            "[1. 2. 3.]\n",
            "\n",
            "\n",
            "First Array + Second Array\n",
            "[[ 1.  2.  3.]\n",
            " [11. 12. 13.]\n",
            " [21. 22. 23.]\n",
            " [31. 32. 33.]]\n"
          ]
        }
      ]
    },
    {
      "cell_type": "code",
      "source": [],
      "metadata": {
        "id": "j8rztmfds9Qo"
      },
      "execution_count": null,
      "outputs": []
    }
  ]
}