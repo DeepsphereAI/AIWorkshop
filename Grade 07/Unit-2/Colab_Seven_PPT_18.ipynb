{
  "nbformat": 4,
  "nbformat_minor": 0,
  "metadata": {
    "colab": {
      "name": "Colab_Seven_PPT_18.ipynb",
      "provenance": [],
      "authorship_tag": "ABX9TyPr7aLVa8mF+HxSF3UbAff6",
      "include_colab_link": true
    },
    "kernelspec": {
      "name": "python3",
      "display_name": "Python 3"
    },
    "language_info": {
      "name": "python"
    }
  },
  "cells": [
    {
      "cell_type": "markdown",
      "metadata": {
        "id": "view-in-github",
        "colab_type": "text"
      },
      "source": [
        "<a href=\"https://colab.research.google.com/github/DeepsphereAI/AIWorkshop/blob/master/Grade%2007/Unit-2/Colab_Seven_PPT_18.ipynb\" target=\"_parent\"><img src=\"https://colab.research.google.com/assets/colab-badge.svg\" alt=\"Open In Colab\"/></a>"
      ]
    },
    {
      "cell_type": "code",
      "execution_count": null,
      "metadata": {
        "id": "BGhB_4ydHI1g"
      },
      "outputs": [],
      "source": [
        "# \"\"\"\n",
        "# Ex 18.\n",
        "\n",
        "# Create a function that will take in a list of random numbers. Output those numbers, but sortest from least to greatest.\n",
        "\n",
        "# Program description: The objective of this program is to arrange a random set of numbers in ascending order (shortest to greatest).\n",
        "# In this program the list contains a random set of numbers such as [6,5,3,7,9,2,8,1,4,10]. But the output of this program will be [1,2,3,4,5,6,7,8,9,10].\n",
        "# Note: This program works for any set of natural numbers.\n",
        "\n",
        "# \"\"\"\n",
        "\n",
        "vAR_check = [6,5,3,7,9,2,8,1,4,10]\n",
        "def vAR_sort(vAR_check):\n",
        "  vAR_out_list = vAR_check\n",
        "  for vAR_x in range(len(vAR_out_list)):\n",
        "    for vAR_x in range(len(vAR_out_list)-1):\n",
        "      if(vAR_out_list[vAR_x] > vAR_out_list[vAR_x+1]):\n",
        "        vAR_temp = vAR_out_list[vAR_x]\n",
        "        vAR_out_list[vAR_x] = vAR_out_list[vAR_x+1]\n",
        "        vAR_out_list[vAR_x+1] = vAR_temp\n",
        "  return vAR_out_list\n",
        "\n",
        "print(vAR_sort(vAR_check))"
      ]
    }
  ]
}