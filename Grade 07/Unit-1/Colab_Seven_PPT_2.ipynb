{
  "nbformat": 4,
  "nbformat_minor": 0,
  "metadata": {
    "colab": {
      "name": "Colab_Seven_PPT_2.ipynb",
      "provenance": [],
      "include_colab_link": true
    },
    "kernelspec": {
      "name": "python3",
      "display_name": "Python 3"
    },
    "language_info": {
      "name": "python"
    }
  },
  "cells": [
    {
      "cell_type": "markdown",
      "metadata": {
        "id": "view-in-github",
        "colab_type": "text"
      },
      "source": [
        "<a href=\"https://colab.research.google.com/github/DeepsphereAI/AIWorkshop/blob/master/Grade%2007/Unit-1/Colab_Seven_PPT_2.ipynb\" target=\"_parent\"><img src=\"https://colab.research.google.com/assets/colab-badge.svg\" alt=\"Open In Colab\"/></a>"
      ]
    },
    {
      "cell_type": "code",
      "execution_count": 6,
      "metadata": {
        "id": "qZ2FAWMsMmK7",
        "outputId": "0ffb7fcf-12ce-474f-90fe-03466fffcdeb",
        "colab": {
          "base_uri": "https://localhost:8080/"
        }
      },
      "outputs": [
        {
          "output_type": "stream",
          "name": "stdout",
          "text": [
            "vAR_time2 is greater\n"
          ]
        }
      ],
      "source": [
        "# \"\"\"\n",
        "# Ex 2.\n",
        "\n",
        "# Create 2 variables, time1 and time2 and print the greater variable\n",
        "\n",
        "# Hint: Use if(): and else:\n",
        "# Program description: The objective of this program is to print the greatest value of the particular data type of both the variables.\n",
        "# In this program we will be declaring two variables” time1” and “time2”and will initialize integer value to both the variables ie:10 and 15 respectively. \n",
        "# And using if else statement we will be checking if value of time1 is greater than time 2 so the condition is if time1 is greater than time2\n",
        "# then print time1 is greater if the condition is not satisfied then we move to the else statement and print that statement\n",
        "# NOTE: FOR COMPARISION BETWEEN TWO VARIABLES THE DATA TYPE OF BOTH THE VALUES OF THE INTEAGER SHOULD BE HOMOGENEOUS.\n",
        "\n",
        "\n",
        "# \"\"\"\n",
        "\n",
        "vAR_time1 = 10\n",
        "vAR_time2 = 15\n",
        "if(vAR_time1 > vAR_time2):\n",
        "  print(\"vAR_time1\"+\" is greater\")\n",
        "else:\n",
        "  print(\"vAR_time2\"+\" is greater\")\n"
      ]
    }
  ]
}