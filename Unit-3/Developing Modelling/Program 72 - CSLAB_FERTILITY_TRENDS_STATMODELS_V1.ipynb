{
  "nbformat": 4,
  "nbformat_minor": 0,
  "metadata": {
    "colab": {
      "provenance": [],
      "authorship_tag": "ABX9TyOf1lvZsXD9uLPogO6v9k0M",
      "include_colab_link": true
    },
    "kernelspec": {
      "name": "python3",
      "display_name": "Python 3"
    },
    "language_info": {
      "name": "python"
    }
  },
  "cells": [
    {
      "cell_type": "markdown",
      "metadata": {
        "id": "view-in-github",
        "colab_type": "text"
      },
      "source": [
        "<a href=\"https://colab.research.google.com/github/DeepsphereAI/AIWorkshop/blob/master/Unit-3/Developing%20Modelling/Program%2072%20-%20CSLAB_FERTILITY_TRENDS_STATMODELS_V1.ipynb\" target=\"_parent\"><img src=\"https://colab.research.google.com/assets/colab-badge.svg\" alt=\"Open In Colab\"/></a>"
      ]
    },
    {
      "cell_type": "code",
      "execution_count": null,
      "metadata": {
        "id": "JDM63arYNqPX"
      },
      "outputs": [],
      "source": [
        "\n",
        "# *********************************************************************************************************************\n",
        "  \n",
        "  # File Name \t:   CSLAB_FERTILITY_TRENDS_V1\n",
        "  # Purpose \t:   A Program in Python for Fertility Trends using statsmodels Package\n",
        "  # Author\t:   Deepsphere.ai\n",
        "  # Reviewer \t:   Jothi Periasamy\n",
        "  # Date \t:   10/25/2022\n",
        "  # Version\t:   1.0\t\n",
        "  \n",
        "# ***********************************************************************************************************************\n",
        "\n",
        "## Program Description : Program for Fertility Trends using statsmodels Package in Python\n",
        "\n",
        "## Python Development Environment & Runtime - Python, Anaconda\n",
        "\n",
        "import pandas as vAR_pd\n",
        "\n",
        "import numpy as vAR_np\n",
        "\n",
        "import matplotlib.pyplot as vAR_plt\n",
        "\n",
        "from statsmodels.sandbox.tools.tools_pca import pcasvd\n",
        "\n",
        "import os\n",
        "\n",
        "vAR_INI_File_Path = os.environ.get('PYTHON_TUTORIAL')\n",
        "\n",
        "import pandas as vAR_pd\n",
        "\n",
        "import configparser\n",
        "\n",
        "import pandas as vAR_pd\n",
        "\n",
        "vAR_Config = configparser.ConfigParser(allow_no_value=True)\n",
        "\n",
        "vAR_Config.read(vAR_INI_File_Path)\n",
        "\n",
        "vAR_CSLAB_Fertility = vAR_Config['Data File Path']['vAR_CSLAB_PROGRAM_72_FERTILITY_DATA']\n",
        "\n",
        "vAR_CSLAB_Fertility = vAR_CSLAB_Fertility\n",
        "\n",
        "vAR_CSLAB_Fertility\n",
        "\n",
        "vAR_CSLAB_Fertility = vAR_pd.read_csv(vAR_CSLAB_Fertility, skiprows=3)\n",
        "\n",
        "#print (vAR_CSLAB_Fertility.head())\n",
        "\n",
        "for tok in [\"IFC\", \"developing\", \"income\", \"European\", \"HIPC\", \"classified\", \n",
        "    \n",
        "  \"Least\", \"Other\", \"small states\", \"cone\", \"world\", \"baltics\"]:\n",
        "    \n",
        "    vAR_CSLAB_ii = [i for i in vAR_CSLAB_Fertility.index if tok.lower() in vAR_CSLAB_Fertility.loc[i, \"Country Name\"].lower()]\n",
        "\n",
        "vAR_CSLAB_years = range(1960, 2012)\n",
        "\n",
        "vAR_CSLAB_years_str = [\"%.0f\" % y for y in vAR_CSLAB_years]\n",
        "\n",
        "vAR_CSLAB_mat = vAR_CSLAB_Fertility.loc[:, [\"Country Name\",] + vAR_CSLAB_years_str].dropna()\n",
        "\n",
        "vAR_CSLAB_countries = vAR_CSLAB_mat[\"Country Name\"].tolist()\n",
        "\n",
        "vAR_CSLAB_mat = vAR_np.asarray(vAR_CSLAB_mat.loc[:, vAR_CSLAB_years_str])\n",
        "\n",
        "vAR_CSLAB_mn = vAR_CSLAB_mat.mean(0)\n",
        "\n",
        "vAR_plt.plot(vAR_CSLAB_years, vAR_CSLAB_mn, '-', lw=4)\n",
        "\n",
        "vAR_plt.grid(True)\n",
        "\n",
        "vAR_plt.xlabel(\"Year\", size=17)\n",
        "\n",
        "vAR_plt.ylabel(\"Global mean fertility rate\", size=17)\n",
        "\n",
        "vAR_plt.show()\n",
        "\n",
        "# ****************************************************************************************************************************\n",
        "#   Disclaimer.\n",
        "\n",
        "# We are providing this code block strictly for learning and researching, this is not a production\n",
        "# ready code. We have no liability on this particular code under any circumstances; users should use\n",
        "# this code on their own risk. All software, hardware and othr products that are referenced in these \n",
        "# materials belong to the respective vendor who developed or who owns this product.\n",
        "\n",
        "# ****************************************************************************************************************************\n",
        "  "
      ]
    }
  ]
}